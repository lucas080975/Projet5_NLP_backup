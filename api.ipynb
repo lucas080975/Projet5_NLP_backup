{
 "cells": [
  {
   "cell_type": "code",
   "execution_count": 47,
   "id": "5971a1dc",
   "metadata": {
    "scrolled": true
   },
   "outputs": [],
   "source": [
    "import flask\n",
    "import sklearn as skl\n",
    "import analyse\n",
    "import  nltk\n",
    "from ast import literal_eval\n",
    "from mul\n",
    "# from analyse import remove_balise_html, clean_txt, remove_stop_words, get_lemmatize_sentence"
   ]
  },
  {
   "cell_type": "code",
   "execution_count": 52,
   "id": "e034ee3c",
   "metadata": {
    "scrolled": false
   },
   "outputs": [
    {
     "name": "stdout",
     "output_type": "stream",
     "text": [
      "['How', 'to', 'convert', 'a', 'Decimal', 'to', 'a', 'Double', 'in', 'C#?']\n"
     ]
    }
   ],
   "source": [
    "# liste.split() pour avoir une liste de strings\n"
   ]
  },
  {
   "cell_type": "code",
   "execution_count": 43,
   "id": "acf7db96",
   "metadata": {},
   "outputs": [
    {
     "name": "stdout",
     "output_type": "stream",
     "text": [
      "['convert', 'decimal', 'double', 'c']\n"
     ]
    }
   ],
   "source": [
    "from nltk.corpus import stopwords\n",
    "\n",
    "def remove_stop_words(t,stop_words = stopwords.words('english')):\n",
    "    stop_words.extend(['from', 'use','would','know','way','need','seem','example',\n",
    "                      'want','try','make','give','get','like','one','set','anyone','x',\n",
    "                      'go','file','change','code','look','create','question','question',\n",
    "                      'something','possible','nt','add','see','page','work',\n",
    "                      'service','option','could'])\n",
    "    filtered_sentence = [w for w in t if not w in stop_words]\n",
    "    filtered_sentence = list(filter(None,filtered_sentence))\n",
    "    return filtered_sentence\n",
    "b = remove_stop_words(a)\n",
    "print(b)"
   ]
  },
  {
   "cell_type": "code",
   "execution_count": 45,
   "id": "f77b378a",
   "metadata": {
    "scrolled": true
   },
   "outputs": [
    {
     "name": "stderr",
     "output_type": "stream",
     "text": [
      "[nltk_data] Downloading package wordnet to\n",
      "[nltk_data]     C:\\Users\\Lucas\\AppData\\Roaming\\nltk_data...\n",
      "[nltk_data]   Package wordnet is already up-to-date!\n"
     ]
    }
   ],
   "source": [
    "nltk.download('wordnet')\n",
    "from nltk.stem import WordNetLemmatizer\n",
    "\n",
    "lemmatizer = WordNetLemmatizer()\n",
    "\n",
    "from nltk.corpus import wordnet\n",
    "\n",
    "def get_wordnet_pos(word):\n",
    "    \"\"\"Map POS tag to first character lemmatize() accepts\"\"\"\n",
    "    tag = nltk.pos_tag([word])[0][1][0].upper()\n",
    "    tag_dict = {\"J\": wordnet.ADJ,\n",
    "                \"N\": wordnet.NOUN,\n",
    "                \"V\": wordnet.VERB,\n",
    "                \"R\": wordnet.ADV}\n",
    "\n",
    "    return tag_dict.get(tag, wordnet.NOUN)\n",
    "\n",
    "'''\n",
    "function to lemmatize a list of strings\n",
    "\n",
    "arg : \n",
    "    - sentence : list of str to lemmatize\n",
    "    - lemmatizer : nltk lemmatizer function to use\n",
    "'''\n",
    "\n",
    "def get_lemmatize_sentence(sentence, lemmatizer = WordNetLemmatizer()):\n",
    "    \n",
    "    return [lemmatizer.lemmatize(w, get_wordnet_pos(w)) for w in sentence]\n"
   ]
  },
  {
   "cell_type": "code",
   "execution_count": 46,
   "id": "3ea1180c",
   "metadata": {
    "scrolled": true
   },
   "outputs": [
    {
     "name": "stdout",
     "output_type": "stream",
     "text": [
      "['convert', 'decimal', 'double', 'c']\n"
     ]
    }
   ],
   "source": [
    "c = get_lemmatize_sentence(b)\n",
    "print(c)"
   ]
  },
  {
   "cell_type": "code",
   "execution_count": 53,
   "id": "412e950c",
   "metadata": {},
   "outputs": [],
   "source": [
    "def preprocess(sentence):\n",
    "    s = sentence.split()\n",
    "    s = analyse.clean_txt(s)\n",
    "    s = remove_stop_words(s)\n",
    "    s = get_lemmatize_sentence(s)\n",
    "    return s"
   ]
  },
  {
   "cell_type": "code",
   "execution_count": null,
   "id": "7c09228b",
   "metadata": {},
   "outputs": [],
   "source": []
  }
 ],
 "metadata": {
  "kernelspec": {
   "display_name": "Python 3 (ipykernel)",
   "language": "python",
   "name": "python3"
  },
  "language_info": {
   "codemirror_mode": {
    "name": "ipython",
    "version": 3
   },
   "file_extension": ".py",
   "mimetype": "text/x-python",
   "name": "python",
   "nbconvert_exporter": "python",
   "pygments_lexer": "ipython3",
   "version": "3.9.9"
  }
 },
 "nbformat": 4,
 "nbformat_minor": 5
}
